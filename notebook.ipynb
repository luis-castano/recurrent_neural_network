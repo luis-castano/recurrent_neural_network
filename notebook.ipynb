{
 "cells": [
  {
   "cell_type": "markdown",
   "metadata": {},
   "source": [
    "https://www.tensorflow.org/text/tutorials/text_classification_rnn"
   ]
  },
  {
   "cell_type": "code",
   "execution_count": 1,
   "metadata": {},
   "outputs": [
    {
     "name": "stderr",
     "output_type": "stream",
     "text": [
      "c:\\Users\\luisc\\miniconda3\\envs\\recurrent_neural_network\\lib\\site-packages\\tqdm\\auto.py:22: TqdmWarning: IProgress not found. Please update jupyter and ipywidgets. See https://ipywidgets.readthedocs.io/en/stable/user_install.html\n",
      "  from .autonotebook import tqdm as notebook_tqdm\n"
     ]
    }
   ],
   "source": [
    "import numpy as np\n",
    "import matplotlib.pyplot as plt\n",
    "\n",
    "import tensorflow as tf\n",
    "import tensorflow_datasets as tfds\n",
    "\n",
    "tfds.disable_progress_bar()"
   ]
  },
  {
   "cell_type": "code",
   "execution_count": 2,
   "metadata": {},
   "outputs": [],
   "source": [
    "def plot_graphs(history, metric):\n",
    "    plt.plot(history.history[metric])\n",
    "    plt.plot(history.history['val_' + metric], '')\n",
    "    plt.xlabel('epochs')\n",
    "    plt.ylabel(metric)\n",
    "    plt.legend([metric, 'val_' + metric])"
   ]
  },
  {
   "cell_type": "code",
   "execution_count": 3,
   "metadata": {},
   "outputs": [
    {
     "name": "stdout",
     "output_type": "stream",
     "text": [
      "\u001b[1mDownloading and preparing dataset Unknown size (download: Unknown size, generated: Unknown size, total: Unknown size) to ~\\tensorflow_datasets\\imdb_reviews\\plain_text\\1.0.0...\u001b[0m\n",
      "\u001b[1mDataset imdb_reviews downloaded and prepared to ~\\tensorflow_datasets\\imdb_reviews\\plain_text\\1.0.0. Subsequent calls will reuse this data.\u001b[0m\n"
     ]
    },
    {
     "data": {
      "text/plain": [
       "(TensorSpec(shape=(), dtype=tf.string, name=None),\n",
       " TensorSpec(shape=(), dtype=tf.int64, name=None))"
      ]
     },
     "execution_count": 3,
     "metadata": {},
     "output_type": "execute_result"
    }
   ],
   "source": [
    "dataset, info = tfds.load(\n",
    "    'imdb_reviews',\n",
    "    with_info=True,\n",
    "    as_supervised=True\n",
    ")\n",
    "\n",
    "train_dataset, test_dataset = dataset['train'], dataset['test']\n",
    "train_dataset.element_spec"
   ]
  },
  {
   "cell_type": "code",
   "execution_count": 4,
   "metadata": {},
   "outputs": [
    {
     "name": "stdout",
     "output_type": "stream",
     "text": [
      "Text: b\"This was an absolutely terrible movie. Don't be lured in by Christopher Walken or Michael Ironside. Both are great actors, but this must simply be their worst role in history. Even their great acting could not redeem this movie's ridiculous storyline. This movie is an early nineties US propaganda piece. The most pathetic scenes were those when the Columbian rebels were making their cases for revolutions. Maria Conchita Alonso appeared phony, and her pseudo-love affair with Walken was nothing but a pathetic emotional plug in a movie that was devoid of any real meaning. I am disappointed that there are movies like this, ruining actor's like Christopher Walken's good name. I could barely sit through it.\"\n",
      "Label: 0\n"
     ]
    }
   ],
   "source": [
    "for example, label in train_dataset.take(1):\n",
    "    print(f'Text: {example.numpy()}')\n",
    "    print(f'Label: {label.numpy()}')"
   ]
  },
  {
   "cell_type": "code",
   "execution_count": 5,
   "metadata": {},
   "outputs": [],
   "source": [
    "BUFFER_SIZE = 10000\n",
    "BATCH_SIZE = 64"
   ]
  },
  {
   "cell_type": "code",
   "execution_count": 6,
   "metadata": {},
   "outputs": [],
   "source": [
    "train_dataset = train_dataset.shuffle(BUFFER_SIZE).batch(BATCH_SIZE).prefetch(tf.data.AUTOTUNE)\n",
    "test_dataset = test_dataset.batch(BATCH_SIZE).prefetch(tf.data.AUTOTUNE)"
   ]
  },
  {
   "cell_type": "code",
   "execution_count": 7,
   "metadata": {},
   "outputs": [
    {
     "name": "stdout",
     "output_type": "stream",
     "text": [
      "Texts: [b\"I figured that any horror film with Orson Welles in it would be weird. Necromancy sure was but it was a little too weird for it's own good. The film does indeed have a creepy feel as it deals with a coven of satanists/witches in a small town and a young woman's attempt to escape them. The director though seems to be deliberately trying to confuse the audience by using flashbacks and dream sequences. By the finale, there are too many unanswered questions. What's worse, as the story is so confusing, it's pretty hard to root for any of the characters. It seems odd that Welles would agree to headline this film especially since he doesn't have that much to do. Maybe someday they will put out a tape of the outtakes and bloopers from this movie. Now that would really be fun!\"\n",
      " b'I once thought that \"The Stoned Age\" was the worst film ever made... I was wrong. \"Hobgoblins\" surpassed it in every way I could imagine and a few I couldn\\'t. In \"The Stoned Age\" I hated the characters. In \"Hobgoblins\" I hated the actors... and everyone else involved in creating this atrocity. I won\\'t include a teaser to this film, I\\'m not that cruel. I couldn\\'t subject innocent people such as yourselves to such torment. In fact, any discussion of plot pertaining to this film is senseless and demeaning. Words I would use to describe this film are as follows: insipid, asinine, and ingenuous.<br /><br />In conclusion, PLEASE don\\'t watch this film. I beg of you, from one movie lover to another... no, from one human being to another, PLEASE. For the sake of your own sanity and intellect DO NOT WATCH IT. Destroy any copies you come across.'\n",
      " b'\"Bela Lugosi revels in his role as European horticulturalist (sic) Dr. Lorenz in this outlandish tale of horror and dementia. The good doctor\\'s aging wife needs fluids harvested from the glands of young virgins in order to retain her youth and beauty. What better place for the doctor to maintain his supply than at the alter, where he kidnaps the unsuspecting brides before they can complete their vows? Sedating them into a coma-like state, he brings them to his mansion to collect his tainted bounty,\" according to the DVD sleeve\\'s synopsis. That brief description is much more entertaining and imaginative than the movie.<br /><br />** The Corpse Vanishes (1942) Wallace Fox ~ Bela Lugosi, Luana Walters, Elizabeth Russell']\n",
      "Labels: [0 0 0]\n"
     ]
    }
   ],
   "source": [
    "for example, label in train_dataset.take(1):\n",
    "    print(f'Texts: {example.numpy()[:3]}')\n",
    "    print(f'Labels: {label.numpy()[:3]}')"
   ]
  },
  {
   "cell_type": "code",
   "execution_count": 8,
   "metadata": {},
   "outputs": [],
   "source": [
    "VOCAB_SIZE = 1000\n",
    "\n",
    "encoder = tf.keras.layers.TextVectorization(max_tokens=VOCAB_SIZE)\n",
    "encoder.adapt(train_dataset.map(lambda text, label: text))"
   ]
  },
  {
   "cell_type": "code",
   "execution_count": 9,
   "metadata": {},
   "outputs": [
    {
     "data": {
      "text/plain": [
       "array(['', '[UNK]', 'the', 'and', 'a', 'of', 'to', 'is', 'in', 'it', 'i',\n",
       "       'this', 'that', 'br', 'was', 'as', 'for', 'with', 'movie', 'but'],\n",
       "      dtype='<U14')"
      ]
     },
     "execution_count": 9,
     "metadata": {},
     "output_type": "execute_result"
    }
   ],
   "source": [
    "vocab = np.array(encoder.get_vocabulary())\n",
    "vocab[:20]"
   ]
  },
  {
   "cell_type": "code",
   "execution_count": 10,
   "metadata": {},
   "outputs": [
    {
     "data": {
      "text/plain": [
       "array([[ 10,   1,  12, ...,   0,   0,   0],\n",
       "       [ 10, 272, 199, ...,   0,   0,   0],\n",
       "       [  1,   1,   1, ...,   0,   0,   0]], dtype=int64)"
      ]
     },
     "execution_count": 10,
     "metadata": {},
     "output_type": "execute_result"
    }
   ],
   "source": [
    "encoded_example = encoder(example)[:3].numpy()\n",
    "encoded_example"
   ]
  },
  {
   "cell_type": "code",
   "execution_count": 11,
   "metadata": {},
   "outputs": [
    {
     "name": "stdout",
     "output_type": "stream",
     "text": [
      "Original: b\"I figured that any horror film with Orson Welles in it would be weird. Necromancy sure was but it was a little too weird for it's own good. The film does indeed have a creepy feel as it deals with a coven of satanists/witches in a small town and a young woman's attempt to escape them. The director though seems to be deliberately trying to confuse the audience by using flashbacks and dream sequences. By the finale, there are too many unanswered questions. What's worse, as the story is so confusing, it's pretty hard to root for any of the characters. It seems odd that Welles would agree to headline this film especially since he doesn't have that much to do. Maybe someday they will put out a tape of the outtakes and bloopers from this movie. Now that would really be fun!\"\n",
      "Round-trip: i [UNK] that any horror film with [UNK] [UNK] in it would be weird [UNK] sure was but it was a little too weird for its own good the film does indeed have a creepy feel as it [UNK] with a [UNK] of [UNK] in a small town and a young [UNK] attempt to [UNK] them the director though seems to be [UNK] trying to [UNK] the audience by using [UNK] and dream sequences by the [UNK] there are too many [UNK] [UNK] whats worse as the story is so [UNK] its pretty hard to [UNK] for any of the characters it seems [UNK] that [UNK] would [UNK] to [UNK] this film especially since he doesnt have that much to do maybe [UNK] they will put out a [UNK] of the [UNK] and [UNK] from this movie now that would really be fun                                                                                                                                                                                                                                                                                                                                                                                                                                                                                                                                                                                                                                                                                                                                                                                                                                                                                         \n",
      "Original: b'I once thought that \"The Stoned Age\" was the worst film ever made... I was wrong. \"Hobgoblins\" surpassed it in every way I could imagine and a few I couldn\\'t. In \"The Stoned Age\" I hated the characters. In \"Hobgoblins\" I hated the actors... and everyone else involved in creating this atrocity. I won\\'t include a teaser to this film, I\\'m not that cruel. I couldn\\'t subject innocent people such as yourselves to such torment. In fact, any discussion of plot pertaining to this film is senseless and demeaning. Words I would use to describe this film are as follows: insipid, asinine, and ingenuous.<br /><br />In conclusion, PLEASE don\\'t watch this film. I beg of you, from one movie lover to another... no, from one human being to another, PLEASE. For the sake of your own sanity and intellect DO NOT WATCH IT. Destroy any copies you come across.'\n",
      "Round-trip: i once thought that the [UNK] age was the worst film ever made i was wrong [UNK] [UNK] it in every way i could imagine and a few i couldnt in the [UNK] age i [UNK] the characters in [UNK] i [UNK] the actors and everyone else involved in [UNK] this [UNK] i wont [UNK] a [UNK] to this film im not that [UNK] i couldnt subject [UNK] people such as [UNK] to such [UNK] in fact any [UNK] of plot [UNK] to this film is [UNK] and [UNK] words i would use to [UNK] this film are as [UNK] [UNK] [UNK] and [UNK] br in [UNK] please dont watch this film i [UNK] of you from one movie [UNK] to another no from one human being to another please for the [UNK] of your own [UNK] and [UNK] do not watch it [UNK] any [UNK] you come across                                                                                                                                                                                                                                                                                                                                                                                                                                                                                                                                                                                                                                                                                                                                                                                                                                                                                   \n",
      "Original: b'\"Bela Lugosi revels in his role as European horticulturalist (sic) Dr. Lorenz in this outlandish tale of horror and dementia. The good doctor\\'s aging wife needs fluids harvested from the glands of young virgins in order to retain her youth and beauty. What better place for the doctor to maintain his supply than at the alter, where he kidnaps the unsuspecting brides before they can complete their vows? Sedating them into a coma-like state, he brings them to his mansion to collect his tainted bounty,\" according to the DVD sleeve\\'s synopsis. That brief description is much more entertaining and imaginative than the movie.<br /><br />** The Corpse Vanishes (1942) Wallace Fox ~ Bela Lugosi, Luana Walters, Elizabeth Russell'\n",
      "Round-trip: [UNK] [UNK] [UNK] in his role as [UNK] [UNK] [UNK] dr [UNK] in this [UNK] tale of horror and [UNK] the good [UNK] [UNK] wife needs [UNK] [UNK] from the [UNK] of young [UNK] in order to [UNK] her [UNK] and beauty what better place for the [UNK] to [UNK] his [UNK] than at the [UNK] where he [UNK] the [UNK] [UNK] before they can complete their [UNK] [UNK] them into a [UNK] [UNK] he brings them to his [UNK] to [UNK] his [UNK] [UNK] [UNK] to the dvd [UNK] [UNK] that [UNK] [UNK] is much more entertaining and [UNK] than the moviebr br the [UNK] [UNK] [UNK] [UNK] [UNK] [UNK] [UNK] [UNK] [UNK] [UNK] [UNK]                                                                                                                                                                                                                                                                                                                                                                                                                                                                                                                                                                                                                                                                                                                                                                                                                                                                                                                    \n"
     ]
    }
   ],
   "source": [
    "for n in range(3):\n",
    "    print(f'Original: {example[n].numpy()}')\n",
    "    print(f'Round-trip: {\" \".join(vocab[encoded_example[n]])}')"
   ]
  },
  {
   "cell_type": "code",
   "execution_count": 12,
   "metadata": {},
   "outputs": [],
   "source": [
    "model = tf.keras.Sequential([\n",
    "    encoder,\n",
    "\n",
    "    tf.keras.layers.Embedding(\n",
    "        input_dim=len(encoder.get_vocabulary()),\n",
    "        output_dim=64,\n",
    "\n",
    "        # Use masking to handle the variable sequence lengths\n",
    "        mask_zero=True\n",
    "    ),\n",
    "    \n",
    "    tf.keras.layers.Bidirectional(tf.keras.layers.LSTM(64)),\n",
    "    tf.keras.layers.Dense(64, activation='relu'),\n",
    "    tf.keras.layers.Dense(1)\n",
    "])"
   ]
  },
  {
   "cell_type": "code",
   "execution_count": 13,
   "metadata": {},
   "outputs": [
    {
     "name": "stdout",
     "output_type": "stream",
     "text": [
      "[False, True, True, True, True]\n"
     ]
    }
   ],
   "source": [
    "print([layer.supports_masking for layer in model.layers])"
   ]
  },
  {
   "cell_type": "code",
   "execution_count": 14,
   "metadata": {},
   "outputs": [
    {
     "name": "stdout",
     "output_type": "stream",
     "text": [
      "1/1 [==============================] - 8s 8s/step\n",
      "[-0.00540895]\n"
     ]
    }
   ],
   "source": [
    "# Predict on a sample text without padding\n",
    "sample_text = ('The movie was cool. The animation and the graphics were out of this world. I would recommend this movie.')\n",
    "\n",
    "predictions = model.predict(np.array([sample_text]))\n",
    "print(predictions[0])"
   ]
  },
  {
   "cell_type": "code",
   "execution_count": 15,
   "metadata": {},
   "outputs": [
    {
     "name": "stdout",
     "output_type": "stream",
     "text": [
      "1/1 [==============================] - 1s 1s/step\n",
      "[-0.00540863]\n"
     ]
    }
   ],
   "source": [
    "# Predict on a sample text with padding\n",
    "padding = 'the ' * 2000\n",
    "predictions = model.predict(np.array([sample_text, padding]))\n",
    "print(predictions[0])"
   ]
  },
  {
   "cell_type": "code",
   "execution_count": 16,
   "metadata": {},
   "outputs": [],
   "source": [
    "model.compile(\n",
    "    loss=tf.keras.losses.BinaryCrossentropy(from_logits=True),\n",
    "    optimizer=tf.keras.optimizers.Adam(1e-4),\n",
    "    metrics=['accuracy']\n",
    ")"
   ]
  },
  {
   "cell_type": "code",
   "execution_count": 17,
   "metadata": {},
   "outputs": [
    {
     "name": "stdout",
     "output_type": "stream",
     "text": [
      "Epoch 1/10\n",
      "391/391 [==============================] - 56s 124ms/step - loss: 0.6438 - accuracy: 0.5594 - val_loss: 0.4859 - val_accuracy: 0.7594\n",
      "Epoch 2/10\n",
      "391/391 [==============================] - 51s 132ms/step - loss: 0.4410 - accuracy: 0.7874 - val_loss: 0.4077 - val_accuracy: 0.8042\n",
      "Epoch 3/10\n",
      "391/391 [==============================] - 50s 129ms/step - loss: 0.3648 - accuracy: 0.8407 - val_loss: 0.3640 - val_accuracy: 0.8328\n",
      "Epoch 4/10\n",
      "391/391 [==============================] - 50s 129ms/step - loss: 0.3373 - accuracy: 0.8533 - val_loss: 0.3353 - val_accuracy: 0.8505\n",
      "Epoch 5/10\n",
      "391/391 [==============================] - 50s 128ms/step - loss: 0.3178 - accuracy: 0.8637 - val_loss: 0.3444 - val_accuracy: 0.8562\n",
      "Epoch 6/10\n",
      "391/391 [==============================] - 50s 127ms/step - loss: 0.3081 - accuracy: 0.8677 - val_loss: 0.3340 - val_accuracy: 0.8599\n",
      "Epoch 7/10\n",
      "391/391 [==============================] - 51s 130ms/step - loss: 0.3058 - accuracy: 0.8693 - val_loss: 0.3217 - val_accuracy: 0.8562\n",
      "Epoch 8/10\n",
      "391/391 [==============================] - 50s 128ms/step - loss: 0.3024 - accuracy: 0.8695 - val_loss: 0.3203 - val_accuracy: 0.8599\n",
      "Epoch 9/10\n",
      "391/391 [==============================] - 50s 127ms/step - loss: 0.2988 - accuracy: 0.8716 - val_loss: 0.3253 - val_accuracy: 0.8620\n",
      "Epoch 10/10\n",
      "391/391 [==============================] - 50s 128ms/step - loss: 0.2961 - accuracy: 0.8737 - val_loss: 0.3187 - val_accuracy: 0.8568\n"
     ]
    }
   ],
   "source": [
    "history = model.fit(\n",
    "    train_dataset,\n",
    "    epochs=10,\n",
    "    validation_data=test_dataset,\n",
    "    validation_steps=30\n",
    ")"
   ]
  },
  {
   "cell_type": "code",
   "execution_count": 18,
   "metadata": {},
   "outputs": [
    {
     "name": "stdout",
     "output_type": "stream",
     "text": [
      "391/391 [==============================] - 23s 59ms/step - loss: 0.3149 - accuracy: 0.8568\n",
      "Test loss: 0.314932256937027\n",
      "Test accuracy: 0.8568400144577026\n"
     ]
    }
   ],
   "source": [
    "test_loss, test_acc = model.evaluate(test_dataset)\n",
    "print(f'Test loss: {test_loss}')\n",
    "print(f'Test accuracy: {test_acc}')"
   ]
  },
  {
   "cell_type": "code",
   "execution_count": 19,
   "metadata": {},
   "outputs": [
    {
     "data": {
      "text/plain": [
       "(0.0, 0.6611993417143822)"
      ]
     },
     "execution_count": 19,
     "metadata": {},
     "output_type": "execute_result"
    },
    {
     "data": {
      "image/png": "[encoded data removed]",
      "text/plain": [
       "<Figure size 1152x576 with 2 Axes>"
      ]
     },
     "metadata": {
      "needs_background": "light"
     },
     "output_type": "display_data"
    }
   ],
   "source": [
    "plt.figure(figsize=(16, 8))\n",
    "\n",
    "plt.subplot(1, 2, 1)\n",
    "plot_graphs(history, 'accuracy')\n",
    "plt.ylim(None, 1)\n",
    "\n",
    "plt.subplot(1, 2, 2)\n",
    "plot_graphs(history, 'loss')\n",
    "plt.ylim(0, None)"
   ]
  },
  {
   "cell_type": "code",
   "execution_count": 22,
   "metadata": {},
   "outputs": [
    {
     "name": "stdout",
     "output_type": "stream",
     "text": [
      "1/1 [==============================] - 0s 19ms/step\n",
      "[0.6857532]\n"
     ]
    }
   ],
   "source": [
    "sample_text = ('The movie was cool. The animation and the graphics were out of this world. I would recommend this movie.')\n",
    "\n",
    "predictions = model.predict(np.array([sample_text]))\n",
    "print(predictions[0])"
   ]
  },
  {
   "cell_type": "code",
   "execution_count": 23,
   "metadata": {},
   "outputs": [],
   "source": [
    "model = tf.keras.Sequential([\n",
    "    encoder,\n",
    "\n",
    "    tf.keras.layers.Embedding(\n",
    "        len(encoder.get_vocabulary()),\n",
    "        64,\n",
    "        mask_zero=True\n",
    "    ),\n",
    "\n",
    "    tf.keras.layers.Bidirectional(\n",
    "        tf.keras.layers.LSTM(\n",
    "            64,\n",
    "            return_sequences=True\n",
    "        )\n",
    "    ),\n",
    "    \n",
    "    tf.keras.layers.Bidirectional(tf.keras.layers.LSTM(32)),\n",
    "    tf.keras.layers.Dense(64, activation='relu'),\n",
    "    tf.keras.layers.Dropout(0.5),\n",
    "    tf.keras.layers.Dense(1)\n",
    "])"
   ]
  },
  {
   "cell_type": "code",
   "execution_count": 24,
   "metadata": {},
   "outputs": [],
   "source": [
    "model.compile(\n",
    "    loss=tf.keras.losses.BinaryCrossentropy(from_logits=True),\n",
    "    optimizer=tf.keras.optimizers.Adam(1e-4),\n",
    "    metrics=['accuracy']\n",
    ")"
   ]
  },
  {
   "cell_type": "code",
   "execution_count": 25,
   "metadata": {},
   "outputs": [
    {
     "name": "stdout",
     "output_type": "stream",
     "text": [
      "Epoch 1/10\n",
      "391/391 [==============================] - 107s 241ms/step - loss: 0.6269 - accuracy: 0.5923 - val_loss: 0.4623 - val_accuracy: 0.7792\n",
      "Epoch 2/10\n",
      "391/391 [==============================] - 88s 224ms/step - loss: 0.3970 - accuracy: 0.8286 - val_loss: 0.3648 - val_accuracy: 0.8365\n",
      "Epoch 3/10\n",
      "391/391 [==============================] - 79s 202ms/step - loss: 0.3377 - accuracy: 0.8548 - val_loss: 0.3389 - val_accuracy: 0.8583\n",
      "Epoch 4/10\n",
      "391/391 [==============================] - 78s 200ms/step - loss: 0.3207 - accuracy: 0.8632 - val_loss: 0.3297 - val_accuracy: 0.8464\n",
      "Epoch 5/10\n",
      "391/391 [==============================] - 77s 198ms/step - loss: 0.3156 - accuracy: 0.8644 - val_loss: 0.3198 - val_accuracy: 0.8594\n",
      "Epoch 6/10\n",
      "391/391 [==============================] - 88s 226ms/step - loss: 0.3088 - accuracy: 0.8674 - val_loss: 0.3245 - val_accuracy: 0.8536\n",
      "Epoch 7/10\n",
      "391/391 [==============================] - 80s 204ms/step - loss: 0.3074 - accuracy: 0.8676 - val_loss: 0.3311 - val_accuracy: 0.8484\n",
      "Epoch 8/10\n",
      "391/391 [==============================] - 78s 199ms/step - loss: 0.3039 - accuracy: 0.8688 - val_loss: 0.3404 - val_accuracy: 0.8630\n",
      "Epoch 9/10\n",
      "391/391 [==============================] - 78s 201ms/step - loss: 0.3015 - accuracy: 0.8708 - val_loss: 0.3288 - val_accuracy: 0.8500\n",
      "Epoch 10/10\n",
      "391/391 [==============================] - 76s 195ms/step - loss: 0.2977 - accuracy: 0.8707 - val_loss: 0.3303 - val_accuracy: 0.8677\n"
     ]
    }
   ],
   "source": [
    "history = model.fit(\n",
    "    train_dataset,\n",
    "    epochs=10,\n",
    "    validation_data=test_dataset,\n",
    "    validation_steps=30\n",
    ")"
   ]
  },
  {
   "cell_type": "code",
   "execution_count": 26,
   "metadata": {},
   "outputs": [
    {
     "name": "stdout",
     "output_type": "stream",
     "text": [
      "391/391 [==============================] - 39s 100ms/step - loss: 0.3327 - accuracy: 0.8618\n",
      "Test loss: 0.33273690938949585\n",
      "Test accuracy: 0.8617600202560425\n"
     ]
    }
   ],
   "source": [
    "test_loss, test_acc = model.evaluate(test_dataset)\n",
    "print(f'Test loss: {test_loss}')\n",
    "print(f'Test accuracy: {test_acc}')"
   ]
  },
  {
   "cell_type": "code",
   "execution_count": 27,
   "metadata": {},
   "outputs": [
    {
     "name": "stdout",
     "output_type": "stream",
     "text": [
      "1/1 [==============================] - 4s 4s/step\n",
      "[[-1.6289989]]\n"
     ]
    }
   ],
   "source": [
    "# Predict on a sample text without padding\n",
    "sample_text = ('The movie was not good. The animation and the graphics were terrible. I would not recommend this movie.')\n",
    "\n",
    "predictions = model.predict(np.array([sample_text]))\n",
    "print(predictions)"
   ]
  },
  {
   "cell_type": "code",
   "execution_count": 28,
   "metadata": {},
   "outputs": [
    {
     "data": {
      "image/png": "[encoded data removed]",
      "text/plain": [
       "<Figure size 1152x432 with 2 Axes>"
      ]
     },
     "metadata": {
      "needs_background": "light"
     },
     "output_type": "display_data"
    }
   ],
   "source": [
    "plt.figure(figsize=(16, 6))\n",
    "\n",
    "plt.subplot(1, 2, 1)\n",
    "plot_graphs(history, 'accuracy')\n",
    "\n",
    "plt.subplot(1, 2, 2)\n",
    "plot_graphs(history, 'loss')"
   ]
  }
 ],
 "metadata": {
  "kernelspec": {
   "display_name": "Python 3.9.12 ('recurrent_neural_network')",
   "language": "python",
   "name": "python3"
  },
  "language_info": {
   "codemirror_mode": {
    "name": "ipython",
    "version": 3
   },
   "file_extension": ".py",
   "mimetype": "text/x-python",
   "name": "python",
   "nbconvert_exporter": "python",
   "pygments_lexer": "ipython3",
   "version": "3.9.12"
  },
  "orig_nbformat": 4,
  "vscode": {
   "interpreter": {
    "hash": "bf78af1071891c86a7efccae3a5f690f2a7832dc1162f8159ec44d21f12487f0"
   }
  }
 },
 "nbformat": 4,
 "nbformat_minor": 2
}
